{
 "cells": [
  {
   "cell_type": "code",
   "execution_count": null,
   "id": "81196aca",
   "metadata": {},
   "outputs": [
    {
     "name": "stdout",
     "output_type": "stream",
     "text": [
      "6\n"
     ]
    }
   ],
   "source": [
    "#BAI1\n",
    "n = int(input())\n",
    "print(n*2)"
   ]
  },
  {
   "cell_type": "code",
   "execution_count": null,
   "id": "b1b551ba",
   "metadata": {},
   "outputs": [
    {
     "name": "stdout",
     "output_type": "stream",
     "text": [
      "7.44\n"
     ]
    }
   ],
   "source": [
    "#BAI2\n",
    "a, b = map(float, input().split())\n",
    "r = a/2\n",
    "S = r*r*3.14\n",
    "s = a*b\n",
    "s = s - S\n",
    "print(f\"{s:.2f}\")"
   ]
  },
  {
   "cell_type": "code",
   "execution_count": null,
   "id": "c7ce0f45",
   "metadata": {},
   "outputs": [
    {
     "name": "stdout",
     "output_type": "stream",
     "text": [
      "AAAAAAAAA\n"
     ]
    }
   ],
   "source": [
    "#BAI3\n",
    "c = str(input())\n",
    "if 'A' <= c <= 'Z':\n",
    "    print(c.lower())\n",
    "elif 'a' <= c <= 'z':\n",
    "    print(c.upper())\n",
    "else:\n",
    "    print('dau vao khong hop le')\n"
   ]
  },
  {
   "cell_type": "code",
   "execution_count": null,
   "id": "f62e01f2",
   "metadata": {},
   "outputs": [
    {
     "name": "stdout",
     "output_type": "stream",
     "text": [
      " không phải là kí tự alphabet\n"
     ]
    }
   ],
   "source": [
    "#BAI4\n",
    "c = str(input())\n",
    "f = (c.islower()) or (c.isupper())\n",
    "if(f):\n",
    "    print(f\"{c} là kí tự alphabet\")\n",
    "else:\n",
    "    print(f\"{c} không phải là kí tự alphabet\")"
   ]
  },
  {
   "cell_type": "code",
   "execution_count": null,
   "id": "c0e1982f",
   "metadata": {},
   "outputs": [
    {
     "name": "stdout",
     "output_type": "stream",
     "text": [
      "g\n"
     ]
    }
   ],
   "source": [
    "#BAI5\n",
    "c = str(input())\n",
    "if(!c.upper()):\n",
    "   print('dau vao khong hop le')\n",
    "if(c == 'A'):\n",
    "    print('truong hop dac biet')\n",
    "else:\n",
    "    f = ord(c)-1\n",
    "    print(chr(f).lower())\n"
   ]
  },
  {
   "cell_type": "code",
   "execution_count": null,
   "id": "f07d1d34",
   "metadata": {},
   "outputs": [],
   "source": [
    "#BAI6\n"
   ]
  }
 ],
 "metadata": {
  "kernelspec": {
   "display_name": ".venv (3.13.7)",
   "language": "python",
   "name": "python3"
  },
  "language_info": {
   "codemirror_mode": {
    "name": "ipython",
    "version": 3
   },
   "file_extension": ".py",
   "mimetype": "text/x-python",
   "name": "python",
   "nbconvert_exporter": "python",
   "pygments_lexer": "ipython3",
   "version": "3.13.7"
  }
 },
 "nbformat": 4,
 "nbformat_minor": 5
}
