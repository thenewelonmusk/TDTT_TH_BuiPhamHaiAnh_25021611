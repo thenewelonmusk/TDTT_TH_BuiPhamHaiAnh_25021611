{
 "cells": [
  {
   "cell_type": "code",
   "execution_count": null,
   "id": "81196aca",
   "metadata": {},
   "outputs": [
    {
     "name": "stdout",
     "output_type": "stream",
     "text": [
      "6\n"
     ]
    }
   ],
   "source": [
    "#BAI1\n",
    "n = int(input())\n",
    "print(n*2)"
   ]
  },
  {
   "cell_type": "code",
   "execution_count": null,
   "id": "b1b551ba",
   "metadata": {},
   "outputs": [
    {
     "name": "stdout",
     "output_type": "stream",
     "text": [
      "7.44\n"
     ]
    }
   ],
   "source": [
    "#BAI2\n",
    "a, b = map(float, input().split())\n",
    "r = a/2\n",
    "S = r*r*3.14\n",
    "s = a*b\n",
    "s = s - S\n",
    "print(f\"{s:.2f}\")"
   ]
  },
  {
   "cell_type": "code",
   "execution_count": null,
   "id": "c7ce0f45",
   "metadata": {},
   "outputs": [
    {
     "name": "stdout",
     "output_type": "stream",
     "text": [
      "AAAAAAAAA\n"
     ]
    }
   ],
   "source": [
    "#BAI3\n",
    "c = str(input())\n",
    "if 'A' <= c <= 'Z':\n",
    "    print(c.lower())\n",
    "elif 'a' <= c <= 'z':\n",
    "    print(c.upper())\n",
    "else:\n",
    "    print('dau vao khong hop le')\n"
   ]
  },
  {
   "cell_type": "code",
   "execution_count": null,
   "id": "f62e01f2",
   "metadata": {},
   "outputs": [
    {
     "name": "stdout",
     "output_type": "stream",
     "text": [
      " không phải là kí tự alphabet\n"
     ]
    }
   ],
   "source": [
    "#BAI4\n",
    "c = str(input())\n",
    "f = (c.islower()) or (c.isupper())\n",
    "if(f):\n",
    "    print(f\"{c} là kí tự alphabet\")\n",
    "else:\n",
    "    print(f\"{c} không phải là kí tự alphabet\")"
   ]
  },
  {
   "cell_type": "code",
   "execution_count": null,
   "id": "c0e1982f",
   "metadata": {},
   "outputs": [
    {
     "name": "stdout",
     "output_type": "stream",
     "text": [
      "g\n"
     ]
    }
   ],
   "source": [
    "#BAI5\n",
    "c = str(input())\n",
    "if(!c.upper()):\n",
    "   print('dau vao khong hop le')\n",
    "if(c == 'A'):\n",
    "    print('truong hop dac biet')\n",
    "else:\n",
    "    f = ord(c)-1\n",
    "    print(chr(f).lower())\n"
   ]
  },
  {
   "cell_type": "code",
   "execution_count": 8,
   "id": "f07d1d34",
   "metadata": {},
   "outputs": [
    {
     "name": "stdout",
     "output_type": "stream",
     "text": [
      "Khong phai 3 canh cua tam giac\n"
     ]
    }
   ],
   "source": [
    "#BAI6\n",
    "import math\n",
    "a, b, c = map(float, input().split())\n",
    "if (a+b > c) and (b+c > a) and (a+c > b):\n",
    "    p = (a+b+c) / 2\n",
    "    dtich = math.sqrt(p*(p-a)*(p-b)*(p-c))\n",
    "    print(f\"{dtich:.1f}\")\n",
    "else:\n",
    "    print('Khong phai 3 canh cua tam giac')"
   ]
  },
  {
   "cell_type": "code",
   "execution_count": null,
   "id": "fd5c8a41",
   "metadata": {},
   "outputs": [
    {
     "name": "stdout",
     "output_type": "stream",
     "text": [
      "5 9\n"
     ]
    }
   ],
   "source": [
    "#BAI7\n",
    "s = str(input())\n",
    "if(len(s) < 20):\n",
    "    print('Chuỗi không hợp lệ')\n",
    "else:\n",
    "    print(s[4], s[8])"
   ]
  },
  {
   "cell_type": "code",
   "execution_count": 25,
   "id": "d8355125",
   "metadata": {},
   "outputs": [
    {
     "name": "stdout",
     "output_type": "stream",
     "text": [
      "Ho va ten: Pham Xuan Toai\n",
      "Tien phai tra la: 107136\n"
     ]
    }
   ],
   "source": [
    "#BAI8\n",
    "ten = str(input('Ten chu ho: '))\n",
    "thangtrc = int(input('Chi so thang truoc: '))\n",
    "thangnay = int(input('Chi so thang nay: '))\n",
    "n = thangnay - thangtrc\n",
    "tiendien = [1.984, 2.050, 2.380, 2.998, 3.350, 3.460]\n",
    "ans = 0\n",
    "if n >= 401:\n",
    "    ans += (n-400) * tiendien[5]\n",
    "    n = 400\n",
    "if n >= 301:\n",
    "    ans += (n-300) * tiendien[4]\n",
    "    n = 300\n",
    "if n >= 201:\n",
    "    ans += (n-200) * tiendien[3]\n",
    "    n = 200\n",
    "if n >= 101:\n",
    "    ans += (n-100) * tiendien[2]\n",
    "    n = 100\n",
    "if n >= 51:\n",
    "    ans += (n-50) * tiendien[1]\n",
    "    n = 50\n",
    "if n > 0:\n",
    "    ans += n * tiendien[0]\n",
    "ans *= 1.08\n",
    "ans = round(ans, 3)\n",
    "print(f\"Ho va ten: {ten}\", f\"Tien phai tra la: {int(ans*1000)}\", sep = '\\n')"
   ]
  }
 ],
 "metadata": {
  "kernelspec": {
   "display_name": ".venv (3.13.7)",
   "language": "python",
   "name": "python3"
  },
  "language_info": {
   "codemirror_mode": {
    "name": "ipython",
    "version": 3
   },
   "file_extension": ".py",
   "mimetype": "text/x-python",
   "name": "python",
   "nbconvert_exporter": "python",
   "pygments_lexer": "ipython3",
   "version": "3.13.7"
  }
 },
 "nbformat": 4,
 "nbformat_minor": 5
}
